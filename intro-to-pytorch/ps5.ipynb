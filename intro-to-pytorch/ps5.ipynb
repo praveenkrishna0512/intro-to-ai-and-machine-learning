{
 "cells": [
  {
   "cell_type": "markdown",
   "id": "3da434a8",
   "metadata": {},
   "source": [
    "# Problem Set 5: Introduction to PyTorch\n",
    "\n",
    "**Release Date:** 21 October 2022\n",
    "\n",
    "**Due Date:** 23:59, 29 October 2022\n",
    "\n",
    "In the real world, while fundamentals are welcomed and appreciated, implementing algorithms from scratch is time consuming, especially when it comes to Deep Learning (DL) models like neural networks with many layers. Backpropagating manually or by hand is often tedious and erroneous. Which is why, knowing **at least one** Machine Learning library is very very necessary, either to get jobs or build projects in this field. As such, in this *Problem Set 5*, we wish to introduce you to **PyTorch**.\n",
    "\n",
    "<img src=\"imgs/img_logo.png\" width=\"600\">\n",
    "\n",
    "`PyTorch` is one of the largest DL libaries widely used around the globe. It offers a very Pythonic API to build layers and compose them together. In fact, data processing is also made easy using the multitude of tools and wrappers that are at your disposal – it is the complete workbench. Of course, there are other popular libraries such as `TensorFlow`, but they require command of \"thinking like computation graphs\". So, we will not be using it for this module. \n",
    "\n",
    "In *Problem Set 5*, we will take you through the `PyTorch` API. You will be building a deep neural network and training it locally on your system via backprop and stochastic gradient descent. Gradually, we'll also show you how to build data processing pipelines to prepare your data before ingestion into your model(s)."
   ]
  },
  {
   "cell_type": "code",
   "execution_count": null,
   "id": "afedfcd3",
   "metadata": {},
   "outputs": [],
   "source": [
    "# RUN THIS CELL FIRST\n",
    "import math\n",
    "\n",
    "import matplotlib.pyplot as plt\n",
    "import torch\n",
    "import torch.nn as nn"
   ]
  },
  {
   "cell_type": "markdown",
   "id": "a5482ebb",
   "metadata": {},
   "source": [
    "# 1 Tensors in PyTorch\n",
    "\n",
    "### 1.1 Concept - What are Tensors?\n",
    "\n",
    "In Linear Algebra, you've learned about vectors – they are 1-dimensional (1D) serial arrays (like `[1, 2, 3, 4, 23, 18]`) containing a column (or row) of information. You've also learned about matrices – they are \"rectangles\" (i.e., 2D) that also capture elements.\n",
    "\n",
    "**Tensors** generalise the concept of matrices: they are $n$-dimensional arrays that contain or represent information. In *PyTorch*, everything is defined as a `tensor`. It's analogous to `np.array(...)` from *NumPy*. A `tensor` object in *PyTorch* looks like this:\n",
    "\n",
    "<img src=\"imgs/img_tensors.png\" width=\"600\">\n",
    "\n",
    "Notice that tensors have a `.grad` attribute. This is used for automatic gradient computation.  \n",
    "To create tensors, you can use the `torch.tensor(...)` constructor:  \n",
    "\n",
    "A 0-dimensional tensor: `torch.tensor(5.0)`  \n",
    "A 1-dimensional tensor: `torch.tensor([1.0, 2.0, 3.0])`  \n",
    "A 2-dimensional tensor: `torch.tensor([[.4, .3], [.1, .2]])`  \n",
    "\n",
    "If automatic gradient computation is required, then the equivalent constructors will be:  \n",
    "`torch.tensor(5.0, requires_grad=True)`  \n",
    "`torch.tensor([1.0, 2.0, 3.0], requires_grad=True)`  \n",
    "`torch.tensor([[.4, .3], [.1, .2]], requires_grad=True)`  \n",
    "\n",
    "**Tensors**, like *NumPy* arrays, can have arbitrary number of dimensions, and you can easily create $n$-dimensional tensors.\n",
    "\n",
    "Check the command glossary for reference on how to create tensors."
   ]
  },
  {
   "cell_type": "markdown",
   "id": "3a9b1300",
   "metadata": {},
   "source": [
    "### 1.2 Demo - Working with Tensors\n",
    "\n",
    "Here, we use `torch.linspace` to create a `torch.tensor`. In PyTorch, and Machine Learning in general, tensors form the basis of all operations.\n",
    "\n",
    "We then make use of the built-in *PyTorch* function `torch.sin` to create the corresponding y-values of a sine function, and plot the points using *Matplotlib*."
   ]
  },
  {
   "cell_type": "code",
   "execution_count": null,
   "id": "be36fbc0",
   "metadata": {},
   "outputs": [],
   "source": [
    "# This is a demonstration: You just need to run this cell without editing.\n",
    "\n",
    "x = torch.linspace(-math.pi, math.pi, 1000) # Task 1.1: What is torch.linspace?\n",
    "y_true = torch.sin(x)\n",
    "\n",
    "plt.plot(x, y_true, linestyle='solid', label='sin(x)')\n",
    "plt.axis('equal')\n",
    "plt.title('Original function to fit')\n",
    "plt.legend()\n",
    "plt.show()"
   ]
  },
  {
   "cell_type": "code",
   "execution_count": null,
   "id": "23acad3b",
   "metadata": {},
   "outputs": [],
   "source": [
    "# Run this cell to explore what the FIRST 10 VALUES of x has been assigned to.\n",
    "# By default, each cell will always print the output of the last expression in the cell\n",
    "# You can explore what x is by modifying the expression e.g. x.max(), x.shape\n",
    "x[:10]"
   ]
  },
  {
   "cell_type": "markdown",
   "id": "ece5d5e2",
   "metadata": {},
   "source": [
    "### 1.3 Task 1 - What is `torch.linspace`?\n",
    "\n",
    "From the example above, answer the following questions:\n",
    "\n",
    "1. What does `x = torch.linspace(-math.pi, math.pi, 1000)` do?  \n",
    "2. How many values are stored `x`?  \n",
    "3. What is the minimum and maximum values of `x`?  "
   ]
  },
  {
   "cell_type": "markdown",
   "id": "ba5928f9",
   "metadata": {},
   "source": [
    "### 1.4 Demo - Using Tensors for linear regression\n",
    "\n",
    "For this example, we fit a **degree 3 polynomial** to the sine function, using a learning rate of 1e-6 and 5000 iterations."
   ]
  },
  {
   "cell_type": "code",
   "execution_count": null,
   "id": "828fdba4",
   "metadata": {},
   "outputs": [],
   "source": [
    "# This is a demonstration: You just need to run this cell without editing.\n",
    "\n",
    "# Set learning rate\n",
    "learning_rate = 1e-6\n",
    "\n",
    "# Initialize weights to 0\n",
    "a = torch.tensor(0.)\n",
    "b = torch.tensor(0.)\n",
    "c = torch.tensor(0.)\n",
    "d = torch.tensor(0.)\n",
    "\n",
    "print('iter', 'loss', '\\n----', '----', sep='\\t')\n",
    "for t in range(1, 5001): # 5000 iterations\n",
    "    # Forward pass: compute predicted y\n",
    "    y_pred = a + b * x + c * x**2 + d * x**3\n",
    "\n",
    "    # Compute MSE loss\n",
    "    loss = torch.mean(torch.square(y_pred - y_true))\n",
    "    if t % 1000 == 0:\n",
    "        print(t, loss.item(), sep='\\t')\n",
    "\n",
    "    # Backprop\n",
    "    grad_y_pred = 2.0 * (y_pred - y_true) / y_pred.shape[0]\n",
    "    # Compute gradients of a, b, c, d with respect to loss\n",
    "    grad_a = grad_y_pred.sum()\n",
    "    grad_b = (grad_y_pred * x).sum()\n",
    "    grad_c = (grad_y_pred * x ** 2).sum()\n",
    "    grad_d = (grad_y_pred * x ** 3).sum()\n",
    "\n",
    "    # Update weights using gradient descent\n",
    "    a -= learning_rate * grad_a\n",
    "    b -= learning_rate * grad_b\n",
    "    c -= learning_rate * grad_c\n",
    "    d -= learning_rate * grad_d\n",
    "\n",
    "# print fitted polynomial\n",
    "equation = f'{a:.5f} + {b:.5f} x + {c:.5f} x^2 + {d:.5f} x^3'\n",
    "\n",
    "y_pred = a + b * x + c * x**2 + d * x**3\n",
    "plt.plot(x, y_true, linestyle='solid', label='sin(x)')\n",
    "plt.plot(x, y_pred, linestyle='dashed', label=f'{equation}')\n",
    "plt.axis('equal')\n",
    "plt.title('3rd degree poly fitted to sine (MSE loss)')\n",
    "plt.legend()\n",
    "plt.show()"
   ]
  },
  {
   "cell_type": "markdown",
   "id": "76952906",
   "metadata": {},
   "source": [
    "### 1.5 Demo - Using autograd to automatically compute gradients\n",
    "\n",
    "In the previous example, we explicitly computed the gradient for Mean Squared Error (MSE)  \n",
    "`grad_y_pred = 2.0 * (y_pred - y_true) / y_pred.shape[0]`\n",
    "\n",
    "In the next example, we will use PyTorch's autograd functionality to help us compute the gradient for **Mean Absolute Error (MAE)**.  \n",
    "In order to compute the gradients, we will use the `.backward()` method of *PyTorch* tensors.\n",
    "\n",
    "Once again, we fit a **degree 3 polynomial** to the sine function, using a learning rate of `1e-6` and `5000` iterations.  \n",
    "This time, we will use MAE instead of MSE."
   ]
  },
  {
   "cell_type": "code",
   "execution_count": null,
   "id": "d2861c55",
   "metadata": {},
   "outputs": [],
   "source": [
    "# This is a demonstration: You just need to run this cell without editing.\n",
    "\n",
    "# Set learning rate\n",
    "learning_rate = 1e-6\n",
    "\n",
    "# Initialize weights to 0\n",
    "a = torch.tensor(0., requires_grad=True)\n",
    "b = torch.tensor(0., requires_grad=True)\n",
    "c = torch.tensor(0., requires_grad=True)\n",
    "d = torch.tensor(0., requires_grad=True)\n",
    "\n",
    "print('iter', 'loss', '\\n----', '----', sep='\\t')\n",
    "for t in range(1, 5001):\n",
    "    # Forward pass: compute predicted y\n",
    "    y_pred = a + b * x + c * x ** 2 + d * x ** 3\n",
    "    # print(y_pred)\n",
    "    # break\n",
    "\n",
    "    # Compute MAE loss\n",
    "    loss = torch.mean(torch.abs(y_pred - y_true))\n",
    "    if t % 1000 == 0:\n",
    "        print(t, loss.item(), sep='\\t')\n",
    "\n",
    "    # Automatically compute gradients\n",
    "    loss.backward()\n",
    "\n",
    "    # Update weights using gradient descent\n",
    "    with torch.no_grad():\n",
    "        a -= learning_rate * a.grad\n",
    "        b -= learning_rate * b.grad\n",
    "        c -= learning_rate * c.grad\n",
    "        d -= learning_rate * d.grad\n",
    "        a.grad.zero_() # reset gradients !important\n",
    "        b.grad.zero_() # reset gradients !important\n",
    "        c.grad.zero_() # reset gradients !important\n",
    "        d.grad.zero_() # reset gradients !important\n",
    "        # What happens if you don't reset the gradients?\n",
    "\n",
    "# print fitted polynomial\n",
    "equation = f'{a:.5f} + {b:.5f} x + {c:.5f} x^2 + {d:.5f} x^3'\n",
    "\n",
    "y_pred = a + b * x + c * x ** 2 + d * x ** 3\n",
    "plt.plot(x, y_true, linestyle='solid', label='sin(x)')\n",
    "plt.plot(x, y_pred.detach().numpy(), linestyle='dashed', label=f'{equation}')\n",
    "plt.axis('equal')\n",
    "plt.title('3rd degree poly fitted to sine (MAE loss)')\n",
    "plt.legend()\n",
    "plt.show()"
   ]
  },
  {
   "cell_type": "markdown",
   "id": "ca266605",
   "metadata": {},
   "source": [
    "### 1.6 Task 2 - Polyfit model\n",
    "\n",
    "We have demonstrated how to fit a degree-3 polynomial to a set of `x` and `y` points (following the sine curve), using two different types of loss functions (MSE and MAE).  \n",
    "\n",
    "Now, your task is to write a function `polyfit` that takes in some arbitrary set of points, \n",
    "1. `x`, corresponding x-values,  \n",
    "2. `y`, corresponding true y-values,  \n",
    "3. `loss_fn` to compute the loss, given the true `y` and predicted `y`,  \n",
    "4. `n` representing the $n$-degree polynomial, and \n",
    "5. `lr` learning rate, and  \n",
    "6. `n_iter` for the number of times to iterate.  \n",
    "\n",
    "Return the 1D tensor containing the coefficients of the $n$-degree polynomial , after fitting the model.  \n",
    "The coefficients should be arranged in ascending powers of $x$.\n",
    "\n",
    "For example,\n",
    "```\n",
    ">>> y = torch.sine(x)\n",
    ">>> mse = lambda y_true, y_pred: torch.mean(torch.square(y_pred - y_true))\n",
    ">>> mae = lambda y_true, y_pred: torch.mean(torch.abs(y_pred - y_true))\n",
    "\n",
    ">>> polyfit(x, y, mse, 3, 1e-3, 5000)\n",
    "tensor([-4.2270e-09,  8.5167e-01,  1.2131e-08, -9.2587e-02], requires_grad=True))\n",
    "\n",
    ">>> polyfit(x, y, mae, 3, 1e-3, 5000)\n",
    "tensor([-9.6776e-07,  8.7905e-01, -2.4784e-06, -9.8377e-02], requires_grad=True))\n",
    "```\n",
    "\n",
    "*Note: For this regression problem, initialize your weights to 0.0.*"
   ]
  },
  {
   "cell_type": "code",
   "execution_count": null,
   "id": "c1f9a796",
   "metadata": {},
   "outputs": [],
   "source": [
    "def polyfit(x, y, loss_fn, n, lr, n_iter):\n",
    "    \"\"\"\n",
    "    PARAMS:\n",
    "        x : original 1-D x-values\n",
    "        y : corresponding 1-D y-values\n",
    "        loss_fn : function to measure loss\n",
    "        n : nth-degree polynomial\n",
    "        lr : learning rate\n",
    "        n_iter : the number of iterations of gradient descent\n",
    "        \n",
    "    RETURNS:\n",
    "        The near-optimal coefficients of the\n",
    "        nth-degree polynomial after `n_iter` epochs\n",
    "    \"\"\"\n",
    "    # Initialize weights to 0\n",
    "    shape = (n + 1, 1)\n",
    "    weights_tensor = torch.zeros(shape, requires_grad=True)\n",
    "    power_tensor = torch.linspace(1, n, n)\n",
    "    poly_x_tensor = x.reshape((x.shape[0], 1)) ** power_tensor\n",
    "    bias_tensor = torch.ones((x.shape[0], 1), requires_grad=True)\n",
    "    poly_x_tensor = torch.cat((bias_tensor, poly_x_tensor), 1)\n",
    "    \n",
    "\n",
    "    # print('iter', 'loss', '\\n----', '----', sep='\\t')\n",
    "    for t in range(n_iter):\n",
    "        # Forward pass: compute predicted y\n",
    "        y_pred = poly_x_tensor @ weights_tensor\n",
    "\n",
    "        # Compute MAE loss\n",
    "        loss = loss_fn(y, y_pred.reshape((y_pred.shape[0], )))\n",
    "        # if t % 1000 == 0:\n",
    "        #     print(t, loss.item(), sep='\\t')\n",
    "\n",
    "        # Automatically compute gradients\n",
    "        loss.backward()\n",
    "\n",
    "        # Update weights using gradient descent\n",
    "        with torch.no_grad():\n",
    "            weights_tensor -= lr * weights_tensor.grad\n",
    "            weights_tensor.grad.zero_()\n",
    "\n",
    "    return weights_tensor.reshape((weights_tensor.shape[0], ))\n",
    "\n",
    "# print fitted polynomial\n",
    "equation = f'{a:.5f} + {b:.5f} x + {c:.5f} x^2 + {d:.5f} x^3'\n",
    "\n",
    "x = torch.linspace(-math.pi, math.pi, 1000)\n",
    "\n",
    "# Original true values\n",
    "y = torch.sin(x)\n",
    "plt.plot(x, y, linestyle='solid', label='sin(x)')\n",
    "\n",
    "# MSE\n",
    "mse = lambda y_true, y_pred: torch.mean(torch.square(y_pred - y_true))\n",
    "a, b, c, d = polyfit(x, y, mse, 3, 1e-3, 5000)\n",
    "y_pred_mse = a + b * x + c * x ** 2 + d * x ** 3\n",
    "plt.plot(x, y_pred_mse.detach().numpy(), linestyle='dashed', label=f'mse')\n",
    "\n",
    "# MAE\n",
    "mae = lambda y_true, y_pred: torch.mean(torch.abs(y_pred - y_true))\n",
    "# a, b, c, d = polyfit(x, y, mae, 3, 1e-3, 5000)\n",
    "a, b, c, d = torch.tensor([-9.6776e-07,  8.7905e-01, -2.4784e-06, -9.8377e-02], requires_grad=True)\n",
    "y_pred_mae = a + b * x + c * x ** 2 + d * x ** 3\n",
    "plt.plot(x, y_pred_mae.detach().numpy(), linestyle='dashed', label=f'mae')\n",
    "e, f, g, h = polyfit(x, y, mae, 3, 1e-3, 5000)\n",
    "y_pred_mae_mine = e + f * x + g * x ** 2 + h * x ** 3\n",
    "plt.plot(x, y_pred_mae_mine.detach().numpy(), linestyle='dashed', label=f'mae_mine')\n",
    "\n",
    "plt.axis('equal')\n",
    "plt.title('Comparison of different fits')\n",
    "plt.legend()\n",
    "plt.show()"
   ]
  },
  {
   "cell_type": "markdown",
   "id": "825a4e0b",
   "metadata": {},
   "source": [
    "### 1.7 Task 3 - Observations on different model configurations\n",
    "\n",
    "Run `polyfit` on these model configurations and state your observations.\n",
    "\n",
    "1. `polyfit(x, y, mse, 3, 1e-6, 5000)`\n",
    "2. `polyfit(x, y, mse, 3, 1e6, 5000)`\n",
    "3. `polyfit(x, y, mse, 1, 1e-3, 5000)`\n",
    "4. `polyfit(x, y, mse, 6, 1e-3, 5000)`"
   ]
  },
  {
   "cell_type": "code",
   "execution_count": 84,
   "id": "4c2554da",
   "metadata": {},
   "outputs": [
    {
     "name": "stdout",
     "output_type": "stream",
     "text": [
      "tensor(nan, grad_fn=<UnbindBackward0>) tensor(nan, grad_fn=<UnbindBackward0>) tensor(nan, grad_fn=<UnbindBackward0>) tensor(nan, grad_fn=<UnbindBackward0>) tensor(nan, grad_fn=<UnbindBackward0>) tensor(nan, grad_fn=<UnbindBackward0>) tensor(nan, grad_fn=<UnbindBackward0>)\n"
     ]
    },
    {
     "data": {
      "image/png": "[encoded data removed]",
      "text/plain": [
       "<Figure size 640x480 with 1 Axes>"
      ]
     },
     "metadata": {},
     "output_type": "display_data"
    }
   ],
   "source": [
    "# You may use this cell to run your observations\n",
    "\n",
    "x = torch.linspace(-math.pi, math.pi, 1000)\n",
    "\n",
    "# Original true values\n",
    "y = torch.sin(x)\n",
    "plt.plot(x, y, linestyle='solid', label='sin(x)')\n",
    "\n",
    "# MSE\n",
    "# mse = lambda y_true, y_pred: torch.mean(torch.square(y_pred - y_true))\n",
    "# a, b, c, d = polyfit(x, y, mse, 3, 1e-3, 5000)\n",
    "# y_pred_mse = a + b * x + c * x ** 2 + d * x ** 3\n",
    "# plt.plot(x, y_pred_mse.detach().numpy(), linestyle='dashed', label=f'mse')\n",
    "\n",
    "a, b, c, d = polyfit(x, y, mse, 3, 1e-6, 5000)\n",
    "y_pred_mse = a + b * x + c * x ** 2 + d * x ** 3\n",
    "plt.plot(x, y_pred_mse.detach().numpy(), linestyle='dashed', label=f'mse_3_1e-6')\n",
    "\n",
    "a, b, c, d = polyfit(x, y, mse, 3, 1e6, 5000)\n",
    "y_pred_mse = a + b * x + c * x ** 2 + d * x ** 3\n",
    "plt.plot(x, y_pred_mse.detach().numpy(), linestyle='dashed', label=f'mse_3_1e6')\n",
    "\n",
    "a, b = polyfit(x, y, mse, 1, 1e-3, 5000)\n",
    "y_pred_mse = a + b * x\n",
    "plt.plot(x, y_pred_mse.detach().numpy(), linestyle='dashed', label=f'mse_1_1e-3')\n",
    "\n",
    "a, b, c, d, e, f, g = polyfit(x, y, mse, 6, 1e-3, 5000)\n",
    "print(a, b, c, d, e, f, g)\n",
    "y_pred_mse = a + b * x + c * x ** 2 + d * x ** 3 + e * x ** 4 + f * x ** 5 + g * x ** 6\n",
    "plt.plot(x, y_pred_mse.detach().numpy(), linestyle='dashed', label=f'mse_6_1e-3')\n",
    "\n",
    "plt.axis('equal')\n",
    "plt.title('Comparison of different fits')\n",
    "plt.legend()\n",
    "plt.show()"
   ]
  },
  {
   "cell_type": "markdown",
   "id": "4e2fb6c5",
   "metadata": {},
   "source": [
    "---\n",
    "# 2 Computing gradients for arbitrary graphs\n",
    "\n",
    "Recall the neural network for `y = |x-1|` from the lecture.\n",
    "\n",
    "<img src=\"imgs/img_toy_nn.jpg\" width=\"400\">\n",
    "\n",
    "### 2.1 Task 4 - Forward pass\n",
    "\n",
    "In this task, you are required implement the function `forward_pass` that takes in 4 arguments:  \n",
    "1. `x`, the input values (not including bias)\n",
    "2. `w0`, (2x2) weights of the hidden layer\n",
    "3. `w1`, (3x1) weights of the output layer\n",
    "4. `activation_fn`, the activation function of the hidden layer.\n",
    "\n",
    "*Note: As in the lecture, there will be no activation for the output layer (e.g. the activation function of the output layer is the identity function `lambda x: x`)*"
   ]
  },
  {
   "cell_type": "code",
   "execution_count": null,
   "id": "4d97ca45",
   "metadata": {},
   "outputs": [],
   "source": [
    "x = torch.linspace(-10, 10, 1000).reshape(-1, 1)\n",
    "y = torch.abs(x-1)\n",
    "\n",
    "def forward_pass(x, w0, w1, activation_fn):\n",
    "    x = torch.cat((torch.ones((x.shape[0], 1)), x), dim=1)\n",
    "    a = activation_fn(x @ w0)\n",
    "    a = torch.cat((torch.ones((a.shape[0], 1)), a), dim=1)\n",
    "    y = a @ w1\n",
    "    return y\n",
    "\n",
    "# Exact weights\n",
    "w0 = torch.tensor([[-1., 1.], [1., -1.]], requires_grad=True)\n",
    "w1 = torch.tensor([[0.], [1.], [1.]], requires_grad=True)\n",
    "\n",
    "# Performing a forward pass on exact solution for weights will give us the correct y values\n",
    "x_sample = torch.linspace(-2, 2, 5).reshape(-1, 1)\n",
    "forward_pass(x_sample, w0, w1, torch.relu) # tensor([[3.], [2.], [1.], [0.], [1.]])"
   ]
  },
  {
   "cell_type": "markdown",
   "id": "9c8033e1",
   "metadata": {},
   "source": [
    "### 2.2 Task 5 - Backward propagation\n",
    "\n",
    "In this task, will start with random weights for `w0` and `w1`, and iteratively perform forward passes and backward propagation multiple times to converge on a solution.\n",
    "\n",
    "Submit your values of `w0`, `w1`, and `loss` value onto Coursemology. Your `loss` value should be less than 1.\n",
    "\n",
    "*Note: To make your code reproducible, we set the random seed of PyTorch to some fixed value.*  "
   ]
  },
  {
   "cell_type": "code",
   "execution_count": null,
   "id": "d79c3395",
   "metadata": {},
   "outputs": [],
   "source": [
    "def back_prop(seed, num_iter, lr):\n",
    "    torch.manual_seed(seed) # Set seed to some fixed value\n",
    "\n",
    "    w0 = torch.randn(2, 2, requires_grad=True)\n",
    "    w1 = torch.randn(3, 1, requires_grad=True)\n",
    "\n",
    "    learning_rate = lr\n",
    "    # print('iter', 'loss', '\\n----', '----', sep='\\t')\n",
    "    final_loss = 100\n",
    "    for t in range(1, num_iter + 1):\n",
    "    # t = 0\n",
    "    # while final_loss > 1:\n",
    "        # Forward pass: compute predicted y\n",
    "        # t += 1\n",
    "        y_pred = forward_pass(x, w0, w1, torch.relu)\n",
    "\n",
    "        loss = torch.mean(torch.square(y - y_pred))\n",
    "        loss.backward()\n",
    "        final_loss = loss\n",
    "\n",
    "        # if t % 1000 == 0:\n",
    "        #     print(t, loss.item(), sep='\\t')\n",
    "\n",
    "        with torch.no_grad():\n",
    "            # Update weights and then reset the gradients to zero\n",
    "            w0 -= learning_rate * w0.grad\n",
    "            w0.grad.zero_()\n",
    "            w1 -= learning_rate * w1.grad\n",
    "            w1.grad.zero_()\n",
    "\n",
    "    print(\"--- w0 ---\", w0, sep='\\n')\n",
    "    print(\"--- w1 ---\", w1, sep='\\n')\n",
    "    y_pred = forward_pass(x, w0, w1, torch.relu)\n",
    "    plt.plot(x, y_pred.detach().numpy(), linestyle='dashed', label=f'perceptron_{seed}')\n",
    "    print(f\"Final loss: {final_loss} for seed: {seed}, iters: {t}, lr: {lr}\")\n",
    "\n",
    "back_prop(0, 10001, 1e-2)\n",
    "back_prop(10, 10001, 1e-2)\n",
    "back_prop(20, 10001, 1e-2)\n",
    "back_prop(30, 10001, 1e-2)\n",
    "# back_prop(1, 10001, 1e-2)\n",
    "# back_prop(3, 10001, 1e-2)\n",
    "# back_prop(1, 200001, 5e-5)\n",
    "# back_prop(5, 30001, 1e-3)\n",
    "# back_prop(1000, 30001, 1e-3)\n",
    "\n",
    "\n",
    "# plt.plot(x, y, linestyle='solid', label='|x-1|')\n",
    "plt.axis('equal')\n",
    "plt.title('Fit NN on abs function')\n",
    "plt.legend()\n",
    "plt.show()\n",
    "\n",
    "# Task 5: Submit the values of `w0`, `w1`, and `loss` values after fitting\n",
    "# Note: An acceptable loss value should be less than 1.0\n",
    "#       You should try adjusting the random seed, learning rate, or \n",
    "#       number of iterations to improve your model.\n",
    "\n",
    "w0   = [[0.0, 0.0], [0.0,  0.0]] # to be computed\n",
    "w1   = [[0.0], [0.0], [0.0]]     # to be computed\n",
    "loss = 0.0                       # to be computed"
   ]
  },
  {
   "cell_type": "markdown",
   "id": "413cd863",
   "metadata": {},
   "source": [
    "### 2.3 Task 6 - Different random seeds\n",
    "\n",
    "Try to fit the model on different initial random weight values by adjusting the random seed.  \n",
    "What does this tell you about the effect of the randomly initialized weights?  \n",
    "\n",
    "Submit your observations and conclusion on Coursemology.\n",
    "\n",
    "---"
   ]
  },
  {
   "cell_type": "markdown",
   "id": "8c0f772a",
   "metadata": {},
   "source": [
    "# 3 Neural Networks (using PyTorch layers)\n",
    "\n",
    "In part 2, you explicitly created weights and biases.  \n",
    "For larger networks, doing this will be extremely tedious.  \n",
    "\n",
    "PyTorch abstracts that away using the `nn.Linear(in_dimensions, out_dimensions)` layer that does this under the hood.  \n",
    "`Linear` represents a fully connected layer with bias automatically included.  \n",
    "If you do not wish to include a bias column, you can simply call `nn.Linear(in_dimensions, out_dimensions, bias=False)` instead.\n",
    "\n",
    "PyTorch has many other layers implemented for various model architectures.  \n",
    "You can read more in the glossary as well as in the docs: https://pytorch.org/docs/stable/nn.html  \n",
    "For now, we will only be using fully connected `Linear` layers.\n",
    "\n",
    "In this task, we inherit from PyTorch's `nn.Module` class (remember Object-oriented Programming?) to build the model from the previous task `y = |x-1|` from the lecture.  \n",
    "<img src=\"imgs/img_toy_nn.jpg\" width=\"400\">  \n",
    "This should allow you to appreciate the ease in which we can build neural networks using PyTorch.  \n",
    "\n",
    "The `nn.Module` class is an interface that houses two main methods: `__init__`, where we instantiate our layers and activation functions, and `forward`, that performs the forward pass.\n",
    "\n",
    "### 3.1 Task 7 - Forward pass\n",
    "\n",
    "The model has been built for you in `__init__`. You need to implement the `forward` method, making use of the layers `self.l1`, `self.l2`, and the activation function `self.relu`."
   ]
  },
  {
   "cell_type": "code",
   "execution_count": null,
   "id": "81145ccc",
   "metadata": {},
   "outputs": [],
   "source": [
    "class MyFirstNeuralNet(nn.Module):\n",
    "    def __init__(self): # set the arguments you'd need\n",
    "        super().__init__()\n",
    "        self.l1 = nn.Linear(1, 2) # bias included by default\n",
    "        self.l2 = nn.Linear(2, 1) # bias included by default\n",
    "        self.relu = nn.ReLU()\n",
    "\n",
    "    # Task 3.1: Forward pass\n",
    "    def forward(self, x):\n",
    "        linear = self.l1(x)\n",
    "        linear2 = self.l2(self.relu(linear))\n",
    "        return linear2"
   ]
  },
  {
   "cell_type": "markdown",
   "id": "b897a701",
   "metadata": {},
   "source": [
    "### 3.2 Demo - Backward propagation\n",
    "\n",
    "To test your model, you can run the code below.  \n",
    "Take note, if you make changes to your model (e.g. fix any bugs in your forward pass), then you will have to re-run your previous cell to update the model definition."
   ]
  },
  {
   "cell_type": "code",
   "execution_count": null,
   "id": "587d9e4d",
   "metadata": {},
   "outputs": [],
   "source": [
    "epochs = 10000\n",
    "\n",
    "model = MyFirstNeuralNet()\n",
    "# the optimizer controls the learning rate\n",
    "optimiser = torch.optim.SGD(model.parameters(), lr=1e-3, momentum=0)\n",
    "loss_fn = nn.MSELoss()\n",
    "\n",
    "x = torch.linspace(-10, 10, 1000).reshape(-1, 1)\n",
    "y = torch.abs(x-1)\n",
    "\n",
    "print('Epoch', 'Loss', '\\n-----', '----', sep='\\t')\n",
    "for i in range(1, epochs+1):\n",
    "    # reset gradients to 0\n",
    "    optimiser.zero_grad()\n",
    "    # get predictions\n",
    "    y_pred = model(x)\n",
    "    # compute loss\n",
    "    loss = loss_fn(y_pred, y)\n",
    "    # backpropagate\n",
    "    loss.backward()\n",
    "    # update the model weights\n",
    "    optimiser.step()\n",
    "\n",
    "    if i % 1000 == 0:\n",
    "        print (f\"{i:5d}\", loss.item(), sep='\\t')\n",
    "\n",
    "y_pred = model(x)\n",
    "plt.plot(x, y, linestyle='solid', label='|x-1|')\n",
    "plt.plot(x, y_pred.detach().numpy(), linestyle='dashed', label='perceptron')\n",
    "plt.axis('equal')\n",
    "plt.title('Fit NN on y=|x-1| function')\n",
    "plt.legend()\n",
    "plt.show()"
   ]
  },
  {
   "cell_type": "markdown",
   "id": "6f845c8d",
   "metadata": {},
   "source": [
    "### 3.3 Concept - Save and load models\n",
    "\n",
    "Your model weights are stored within the model itself.  \n",
    "You may save/load the model weights:\n",
    "```\n",
    "torch.save(model.state_dict(), \"path/to/model_state_dict\")\n",
    "\n",
    "model = MyFirstNeuralNet()\n",
    "model.load_state_dict(torch.load(\"path/to/model_state_dict\"))\n",
    "```\n",
    "\n",
    "Alternatively, you can save/load the entire model using\n",
    "```\n",
    "torch.save(model, \"path/to/model\")\n",
    "\n",
    "model = torch.load(\"path/to/model\")\n",
    "```"
   ]
  },
  {
   "cell_type": "markdown",
   "id": "ac548df6",
   "metadata": {},
   "source": [
    "### 3.4 Task 8 - Model weights\n",
    "\n",
    "For this task, you will print out the trained model's `.state_dict()` and submit this to Coursemology.\n",
    "\n",
    "*Note: An acceptable loss value should be less than 1.0. If your loss is greater than 1, try re-running with a different random initialization, or adjust your model configuration.*"
   ]
  },
  {
   "cell_type": "code",
   "execution_count": null,
   "id": "481bb0cc",
   "metadata": {},
   "outputs": [],
   "source": [
    "# To submit this output\n",
    "print(\"--- Submit the OrderedDict below ---\")\n",
    "print(model.state_dict())"
   ]
  },
  {
   "cell_type": "markdown",
   "id": "9151f959",
   "metadata": {},
   "source": [
    "### 3.5 Concept - Using NN to recognize handwritten digits\n",
    "\n",
    "In the final part of this problem set, we will be building a neural network to classify images to their respective digits.  \n",
    "\n",
    "You will build and train a model on the classic **MNIST Handwritten Digits** dataset. Each grayscale image is a $28 \\times 28$ matrix/tensor that looks like so:\n",
    "\n",
    "<img src=\"https://upload.wikimedia.org/wikipedia/commons/2/27/MnistExamples.png\" width=\"500\" />\n",
    "\n",
    "MNIST is a classification problem and the task is to take in an input image and classify them into one of ten buckets: the digits from $0$ to $9$. "
   ]
  },
  {
   "cell_type": "markdown",
   "id": "eda667dc",
   "metadata": {},
   "source": [
    "### 3.5 Demo - Loading an external dataset\n",
    "\n",
    "The cell below imports the MNIST dataset, which is already pre-split into train and test sets.  \n",
    "\n",
    "The download takes approximately 63MB of space."
   ]
  },
  {
   "cell_type": "code",
   "execution_count": null,
   "id": "2ce62735",
   "metadata": {},
   "outputs": [],
   "source": [
    "# DO NOT REMOVE THIS CELL – THIS DOWNLOADS THE MNIST DATASET\n",
    "# RUN THIS CELL BEFORE YOU RUN THE REST OF THE CELLS BELOW\n",
    "from torchvision import datasets\n",
    "\n",
    "# This downloads the MNIST datasets ~63MB\n",
    "mnist_train = datasets.MNIST(\"./\", train=True, download=True)\n",
    "mnist_test  = datasets.MNIST(\"./\", train=False, download=True)\n",
    "\n",
    "x_train = mnist_train.data.reshape(-1, 784) / 255\n",
    "y_train = mnist_train.targets\n",
    "    \n",
    "x_test = mnist_test.data.reshape(-1, 784) / 255\n",
    "y_test = mnist_test.targets"
   ]
  },
  {
   "cell_type": "markdown",
   "id": "e092f6c4",
   "metadata": {},
   "source": [
    "### 3.6 Task 9 - Define the model architechure and implement the forward pass\n",
    "Create a 3-layer network in the `__init__` method of the model `DigitNet`.  \n",
    "These layers are all `Linear` layers and should correspond to the following the architecture:\n",
    "\n",
    "<img src=\"imgs/img_linear_nn.png\" width=\"600\">\n",
    "\n",
    "In our data, a given image $x$ has been flattened from a 28x28 image to a 784-length array.\n",
    "\n",
    "After initializing the layers, stitch them together in the `forward` method. Your network should look like so:\n",
    "\n",
    "$$x \\rightarrow \\text{Linear(512)} \\rightarrow \\text{ReLU} \\rightarrow \\text{Linear(128)} \\rightarrow \\text{ReLU} \\rightarrow \\text{Linear(10)} \\rightarrow \\text{Softmax} \\rightarrow \\hat{y}$$\n",
    "\n",
    "**Softmax Layer**: The final softmax activation is commonly used for classification tasks, as it will normalizes the results into a vector of values that follows a probability distribution whose total sums up to 1. The output values are between the range [0,1] which is nice because we are able to avoid binary classification and accommodate as many classes or dimensions in our neural network model.\n",
    "\n",
    "*Note: When using `torch.softmax(...)` on the final layer, ensure you are applying it on the correct dimension (as you did in NumPy via the `axis` argument in popular methods)*"
   ]
  },
  {
   "cell_type": "code",
   "execution_count": 101,
   "id": "596d04f8",
   "metadata": {},
   "outputs": [],
   "source": [
    "class DigitNet(nn.Module):\n",
    "    def __init__(self, input_dimensions, num_classes): # set the arguments you'd need\n",
    "        super().__init__()\n",
    "        \"\"\"\n",
    "        YOUR CODE HERE\n",
    "        \n",
    "        - your network should work for any input and output size \n",
    "            – add appropriate arguments in the object constructor\n",
    "        - create the 3 layers (and a ReLU layer) using the torch.nn layers API\n",
    "        \"\"\"\n",
    "        self.l1 = nn.Linear(input_dimensions, 512)\n",
    "        self.l2 = nn.Linear(512, 128)\n",
    "        self.l3 = nn.Linear(128, num_classes)\n",
    "        self.relu = nn.ReLU()\n",
    "        \n",
    "    def forward(self, x):\n",
    "        \"\"\"\n",
    "        Performs the forward pass for the network.\n",
    "        \n",
    "        PARAMS:\n",
    "            x : the input tensor (batch size is the entire dataset)\n",
    "            \n",
    "        RETURNS\n",
    "            the output of the entire 3-layer model\n",
    "        \"\"\"\n",
    "        \n",
    "        \"\"\"\n",
    "        YOUR CODE\n",
    "        \n",
    "        - pass the inputs through the sequence of layers\n",
    "        - run the final output through the Softmax function on the right dimension!\n",
    "        \"\"\"\n",
    "        linear = self.l1(x)\n",
    "        linear2 = self.l2(self.relu(linear))\n",
    "        linear3 = self.l3(self.relu(linear2))\n",
    "        return torch.softmax(linear3, dim = 1)"
   ]
  },
  {
   "cell_type": "markdown",
   "id": "d356b9ad",
   "metadata": {},
   "source": [
    "### 3.7 Task 10 - Training Loop\n",
    "\n",
    "As demonstrated in Section 3.2, implement the function `train_model` that performs the following for every epoch/iteration:\n",
    "\n",
    "1. set the optimizer's gradients to zero\n",
    "2. forward pass\n",
    "3. calculate the loss\n",
    "4. backpropagate using the loss\n",
    "5. take an optimzer step to update weights\n",
    "\n",
    "This time, use the Adam optimiser to train the network.  \n",
    "Use Cross-Entropy Loss, since we are performing a classification.  \n",
    "Train for 20 epochs.  \n",
    "\n",
    "*Note: refer to the command glossary to find out how to instantiate optimisers, losses, and more*"
   ]
  },
  {
   "cell_type": "code",
   "execution_count": 103,
   "id": "60ab3632",
   "metadata": {},
   "outputs": [],
   "source": [
    "def train_model(x_train, y_train, epochs=20):\n",
    "    \"\"\"\n",
    "    Trains the model for 20 epochs/iterations\n",
    "    \n",
    "    PARAMS:\n",
    "        x_train : a tensor of training features of shape (60000, 784)\n",
    "        y_train : a tensor of training labels of shape (60000, 1)\n",
    "        epochs  : number of epochs, default of 20\n",
    "        \n",
    "    RETURNS:\n",
    "        the final model \n",
    "    \"\"\"\n",
    "    model = DigitNet(784, 10)\n",
    "    optimiser = torch.optim.Adam(model.parameters()) # use Adam\n",
    "    loss_fn = nn.CrossEntropyLoss()  # use cross-entropy loss\n",
    "\n",
    "    for i in range(epochs):\n",
    "        optimiser.zero_grad()\n",
    "        y_pred = model.forward(x_train)\n",
    "        loss = loss_fn(y_pred, y_train)\n",
    "        loss.backward()\n",
    "        optimiser.step()\n",
    "\n",
    "    return model\n",
    "                \n",
    "digit_model = train_model(x_train, y_train, 50)"
   ]
  },
  {
   "cell_type": "markdown",
   "id": "01fdee35",
   "metadata": {},
   "source": [
    "### 3.8 Demo - Explore your model\n",
    "\n",
    "Now that we have trained the model, let us run some predictions on the model."
   ]
  },
  {
   "cell_type": "code",
   "execution_count": 104,
   "id": "6f83aa93",
   "metadata": {},
   "outputs": [
    {
     "name": "stdout",
     "output_type": "stream",
     "text": [
      "true label: 7\n",
      "pred label: 7\n"
     ]
    },
    {
     "data": {
      "image/png": "[encoded data removed]",
      "text/plain": [
       "<Figure size 640x480 with 1 Axes>"
      ]
     },
     "metadata": {},
     "output_type": "display_data"
    },
    {
     "name": "stdout",
     "output_type": "stream",
     "text": [
      "true label: 2\n",
      "pred label: 2\n"
     ]
    },
    {
     "data": {
      "image/png": "[encoded data removed]",
      "text/plain": [
       "<Figure size 640x480 with 1 Axes>"
      ]
     },
     "metadata": {},
     "output_type": "display_data"
    },
    {
     "name": "stdout",
     "output_type": "stream",
     "text": [
      "true label: 1\n",
      "pred label: 1\n"
     ]
    },
    {
     "data": {
      "image/png": "[encoded data removed]",
      "text/plain": [
       "<Figure size 640x480 with 1 Axes>"
      ]
     },
     "metadata": {},
     "output_type": "display_data"
    },
    {
     "name": "stdout",
     "output_type": "stream",
     "text": [
      "true label: 0\n",
      "pred label: 0\n"
     ]
    },
    {
     "data": {
      "image/png": "[encoded data removed]",
      "text/plain": [
       "<Figure size 640x480 with 1 Axes>"
      ]
     },
     "metadata": {},
     "output_type": "display_data"
    },
    {
     "name": "stdout",
     "output_type": "stream",
     "text": [
      "true label: 4\n",
      "pred label: 4\n"
     ]
    },
    {
     "data": {
      "image/png": "[encoded data removed]",
      "text/plain": [
       "<Figure size 640x480 with 1 Axes>"
      ]
     },
     "metadata": {},
     "output_type": "display_data"
    },
    {
     "name": "stdout",
     "output_type": "stream",
     "text": [
      "true label: 1\n",
      "pred label: 1\n"
     ]
    },
    {
     "data": {
      "image/png": "[encoded data removed]",
      "text/plain": [
       "<Figure size 640x480 with 1 Axes>"
      ]
     },
     "metadata": {},
     "output_type": "display_data"
    },
    {
     "name": "stdout",
     "output_type": "stream",
     "text": [
      "true label: 4\n",
      "pred label: 4\n"
     ]
    },
    {
     "data": {
      "image/png": "[encoded data removed]",
      "text/plain": [
       "<Figure size 640x480 with 1 Axes>"
      ]
     },
     "metadata": {},
     "output_type": "display_data"
    },
    {
     "name": "stdout",
     "output_type": "stream",
     "text": [
      "true label: 9\n",
      "pred label: 9\n"
     ]
    },
    {
     "data": {
      "image/png": "[encoded data removed]",
      "text/plain": [
       "<Figure size 640x480 with 1 Axes>"
      ]
     },
     "metadata": {},
     "output_type": "display_data"
    },
    {
     "name": "stdout",
     "output_type": "stream",
     "text": [
      "true label: 5\n",
      "pred label: 4\n"
     ]
    },
    {
     "data": {
      "image/png": "[encoded data removed]",
      "text/plain": [
       "<Figure size 640x480 with 1 Axes>"
      ]
     },
     "metadata": {},
     "output_type": "display_data"
    },
    {
     "name": "stdout",
     "output_type": "stream",
     "text": [
      "true label: 9\n",
      "pred label: 9\n"
     ]
    },
    {
     "data": {
      "image/png": "[encoded data removed]",
      "text/plain": [
       "<Figure size 640x480 with 1 Axes>"
      ]
     },
     "metadata": {},
     "output_type": "display_data"
    }
   ],
   "source": [
    "# This is a demonstration: You can use this cell for exploring your trained model\n",
    "for i in range(10):\n",
    "    idx = i # try on some index\n",
    "\n",
    "    scores = digit_model(x_test[idx:idx+1])\n",
    "    _, predictions = torch.max(scores, 1)\n",
    "    print(\"true label:\", y_test[idx].item())\n",
    "    print(\"pred label:\", predictions[0].item())\n",
    "\n",
    "    plt.imshow(x_test[idx].numpy().reshape(28, 28), cmap='gray')\n",
    "    plt.axis(\"off\")\n",
    "    plt.show()"
   ]
  },
  {
   "cell_type": "markdown",
   "id": "fcc94586",
   "metadata": {},
   "source": [
    "### 3.9 Task 11 - Evaluate the model\n",
    "\n",
    "Now that we have trained the model, we should evaluate it using our test set.  \n",
    "We will be using the accuracy (whether or not the model predicted the correct label) to measure the model performance.  \n",
    "\n",
    "Since our model takes in a (n x 784) tensor and returns a (n x 10) tensor of probability scores for each of the 10 classes, we need to convert the probability scores into the actual predictions by taking the index of the maximum probability.  "
   ]
  },
  {
   "cell_type": "code",
   "execution_count": 106,
   "id": "a5684246",
   "metadata": {},
   "outputs": [
    {
     "data": {
      "text/plain": [
       "0.9074000120162964"
      ]
     },
     "execution_count": 106,
     "metadata": {},
     "output_type": "execute_result"
    }
   ],
   "source": [
    "def get_accuracy(scores, labels):\n",
    "    \"\"\"\n",
    "    helper function that returns accuracy of model\n",
    "    PARAMS:\n",
    "        scores : the raw softmax scores of the network\n",
    "        label : the ground truth labels\n",
    "        \n",
    "    RETURNS:\n",
    "        accuracy of the model. Return a number in range [0, 1].\n",
    "        0 means 0% accuracy while 1 means 100% accuracy\n",
    "    \"\"\"\n",
    "    _, predictions = torch.max(scores, 1)\n",
    "    accuracy_tensor = torch.where(predictions == labels, 1, 0)\n",
    "    result = accuracy_tensor.sum() / accuracy_tensor.shape[0]\n",
    "    return result.item()\n",
    "\n",
    "scores = digit_model(x_test) # n x 10 tensor\n",
    "get_accuracy(scores, y_test)"
   ]
  },
  {
   "cell_type": "markdown",
   "id": "9ce50c78",
   "metadata": {},
   "source": [
    "# Submission\n",
    "\n",
    "Once you are done, please remember to submit your work to Coursemology, by copying the right snippets of code into the corresponding box that says \"Your answer\", and click \"Save\". After you save, you can make changes to your submission.\n",
    "\n",
    "Once you are satisfied with what you have uploaded, click \"Finalize submission\". **Note that once your submission is finalized, it is considered to be submitted for grading and cannot be changed.** If you need to undo this action, you will have to reach out to your assigned tutor for help. Please do not finalize your submission until you are sure that you want to submit your solutions for grading. \n",
    "\n",
    "### HAVE FUN AND ENJOY CODING!"
   ]
  }
 ],
 "metadata": {
  "kernelspec": {
   "display_name": "Python 3.10.2 64-bit",
   "language": "python",
   "name": "python3"
  },
  "language_info": {
   "codemirror_mode": {
    "name": "ipython",
    "version": 3
   },
   "file_extension": ".py",
   "mimetype": "text/x-python",
   "name": "python",
   "nbconvert_exporter": "python",
   "pygments_lexer": "ipython3",
   "version": "3.10.2"
  },
  "vscode": {
   "interpreter": {
    "hash": "cef00a434b9d52139090e52e7c2274853d886aab006f16c7f10e5d2d59529c09"
   }
  }
 },
 "nbformat": 4,
 "nbformat_minor": 5
}
